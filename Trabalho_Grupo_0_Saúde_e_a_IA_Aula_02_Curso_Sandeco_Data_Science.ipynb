{
  "nbformat": 4,
  "nbformat_minor": 0,
  "metadata": {
    "colab": {
      "provenance": [],
      "authorship_tag": "ABX9TyNWER7bDZUNSifzqpXICUyr",
      "include_colab_link": true
    },
    "kernelspec": {
      "name": "python3",
      "display_name": "Python 3"
    },
    "language_info": {
      "name": "python"
    }
  },
  "cells": [
    {
      "cell_type": "markdown",
      "metadata": {
        "id": "view-in-github",
        "colab_type": "text"
      },
      "source": [
        "<a href=\"https://colab.research.google.com/github/ecodelearn/Grupo-0-Sandeco-Aula-02/blob/main/Trabalho_Grupo_0_Sa%C3%BAde_e_a_IA_Aula_02_Curso_Sandeco_Data_Science.ipynb\" target=\"_parent\"><img src=\"https://colab.research.google.com/assets/colab-badge.svg\" alt=\"Open In Colab\"/></a>"
      ]
    },
    {
      "cell_type": "markdown",
      "source": [
        "### Grupo 0 Curso Sandeco Data Science ###\n",
        "\n",
        "Membros Participantes Grupo 0:\n",
        "\n",
        "> Indented block\n",
        "\n",
        "\n",
        "\n",
        "    Andre Luiz\n",
        "    Carlos BomFim\n",
        "    Daniel Dias\n",
        "    Fran\n",
        "    Leal\n",
        "    Luiz Silva\n",
        "    Prof. Marcelo Claro\n",
        "    Sayonara\n",
        "    Valdirene\n",
        "    William Coelho"
      ],
      "metadata": {
        "id": "BWrYd5wpmYJK"
      }
    },
    {
      "cell_type": "markdown",
      "source": [],
      "metadata": {
        "id": "uDhxQXrtmeMW"
      }
    }
  ]
}