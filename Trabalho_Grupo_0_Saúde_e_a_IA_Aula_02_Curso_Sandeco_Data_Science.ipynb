{
  "nbformat": 4,
  "nbformat_minor": 0,
  "metadata": {
    "colab": {
      "provenance": [],
      "include_colab_link": true
    },
    "kernelspec": {
      "name": "python3",
      "display_name": "Python 3"
    },
    "language_info": {
      "name": "python"
    }
  },
  "cells": [
    {
      "cell_type": "markdown",
      "metadata": {
        "id": "view-in-github",
        "colab_type": "text"
      },
      "source": [
        "<a href=\"https://colab.research.google.com/github/ecodelearn/Grupo-0-Sandeco-Aula-02/blob/main/Trabalho_Grupo_0_Sa%C3%BAde_e_a_IA_Aula_02_Curso_Sandeco_Data_Science.ipynb\" target=\"_parent\"><img src=\"https://colab.research.google.com/assets/colab-badge.svg\" alt=\"Open In Colab\"/></a>"
      ]
    },
    {
      "cell_type": "markdown",
      "source": [
        "### Grupo 0 Curso Sandeco Data Science ###\n",
        "\n",
        "Membros Participantes Grupo 0:\n",
        "\n",
        "> Indented block\n",
        "\n",
        "    Andre Luiz\n",
        "    Carlos BomFim\n",
        "    Daniel Dias\n",
        "    Fran\n",
        "    Leal\n",
        "    Luiz Silva\n",
        "    Prof. Marcelo Claro\n",
        "    Sayonara\n",
        "    Valdirene\n",
        "    William Coelho"
      ],
      "metadata": {
        "id": "BWrYd5wpmYJK"
      }
    },
    {
      "cell_type": "markdown",
      "source": [],
      "metadata": {
        "id": "uDhxQXrtmeMW"
      }
    },
    {
      "cell_type": "code",
      "source": [
        "import pandas as pd\n",
        "\n",
        "# Carregar o arquivo XLSX\n",
        "covid_health_form_xlsx_path = '/content/Formulário de Saúde COVID-19 (respostas).xlsx'\n",
        "try:\n",
        "    covid_health_data_xlsx = pd.read_excel(covid_health_form_xlsx_path)\n",
        "    covid_health_data_xlsx_success = True\n",
        "    covid_health_data_xlsx_head = covid_health_data_xlsx.head()\n",
        "except Exception as e:\n",
        "    covid_health_data_xlsx_success = False\n",
        "    error_message_xlsx = str(e)\n",
        "\n",
        "covid_health_data_xlsx_success, covid_health_data_xlsx_head if covid_health_data_xlsx_success else error_message_xlsx\n"
      ],
      "metadata": {
        "id": "ZjtqqTDa-Gba"
      },
      "execution_count": null,
      "outputs": []
    },
    {
      "cell_type": "code",
      "source": [
        "# Função para abreviar nomes, modificada para lidar com valores não-string\n",
        "def abreviar_nome(nome_completo):\n",
        "    if isinstance(nome_completo, str):\n",
        "        partes_nome = nome_completo.split()\n",
        "        if len(partes_nome) > 1:\n",
        "            return f\"{partes_nome[0][0]}. {' '.join(partes_nome[1:])}\"\n",
        "        else:\n",
        "            return nome_completo\n",
        "    else:\n",
        "        # Retorna um valor padrão (por exemplo, 'Desconhecido') se o nome não for uma string\n",
        "        return 'Desconhecido'\n",
        "\n",
        "# Aplicar a função na coluna \"Nome completo\"\n",
        "covid_health_data_xlsx['Nome completo'] = covid_health_data_xlsx['Nome completo'].apply(abreviar_nome)\n",
        "\n",
        "# Exibir as primeiras linhas para verificar as mudanças\n",
        "covid_health_data_xlsx.head()\n",
        "\n"
      ],
      "metadata": {
        "id": "GUJGmfZS-Hoy"
      },
      "execution_count": null,
      "outputs": []
    },
    {
      "cell_type": "code",
      "source": [
        "# Função para extrair o estado do endereço completo\n",
        "def extrair_estado(endereco):\n",
        "    if isinstance(endereco, str):\n",
        "        partes = endereco.split(',')\n",
        "        if partes:\n",
        "            return partes[-1].strip()  # Retorna a última parte do endereço, que presumimos ser o estado\n",
        "        else:\n",
        "            return None\n",
        "    else:\n",
        "        return endereco  # Retornar o valor original se não for uma string ou se estiver vazio\n",
        "\n",
        "# Aplicar a função na coluna \"Endereço completo\"\n",
        "covid_health_data_xlsx['Endereço completo'] = covid_health_data_xlsx['Endereço completo'].apply(extrair_estado)\n",
        "\n",
        "# Exibir as primeiras linhas para verificar as mudanças\n",
        "covid_health_data_xlsx.head()\n"
      ],
      "metadata": {
        "id": "dbwYjBaG99h_"
      },
      "execution_count": null,
      "outputs": []
    }
  ]
}